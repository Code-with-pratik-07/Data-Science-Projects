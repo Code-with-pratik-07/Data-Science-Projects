import pandas as pd
data=pd.read_csv("fremont-bridge.csv",index_col="Date")
data.head()


data.index = pd.to_datetime(data.index, format="%m/%d/%Y %H:%M")


data.rename(columns={"West":"Fremont Bridge West Sidewalk","East":"Fremont Bridge East Sidewalk"},inplace=True)


data.head()


data["Total"]=data["Fremont Bridge West Sidewalk"]+data["Fremont Bridge East Sidewalk"]
data.head()


print(data.isnull().sum())


data.dropna(inplace=True)


print(data.isnull().sum())


data.describe()


import matplotlib.pyplot as plt
import seaborn as sns
sns.set()
data.plot()
plt.ylabel("Hourly Bicycle count")
plt.title("Hourly Bicycle Counts on Fremont Bridge")
plt.grid(True)
plt.show()


weekly=data.resample("W").sum()
weekly.plot(style=[":","--","-"])
plt.ylabel("Weekly Bicycle count")
plt.show()


daily = data.resample('D').sum()
daily.rolling(30, center=True).sum().plot(style=[':', '--', '-'])
plt.ylabel('mean hourly count')
plt.show()


daily.rolling(50, center=True,
              win_type='gaussian').sum(std=10).plot(style=[':','--', '-'])
plt.show()    #outliners can be avoided


import numpy as np
by_time = data.groupby(data.index.time).mean()
hourly_ticks = 4 * 60 * 60 * np.arange(6)
by_time.plot(xticks= hourly_ticks, style=[':', '--', '-'])
plt.ylabel("Traffic according to time")
plt.show()




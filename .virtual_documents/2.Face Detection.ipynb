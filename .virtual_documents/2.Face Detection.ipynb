pip install Opencv-python


import cv2
face_Cascade=cv2.CascadeClassifier(cv2.data.haarcascades + "haarcascade_frontalface_default.xml")
img=cv2.imread("logo.jpeg")
gray=cv2.cvtColor(img,cv2.COLOR_BGR2GRAY)
faces=face_Cascade.detectMultiScale(gray,1.1,4)
for (x,y,w,h) in faces:
    cv2.rectangle(img,(x,y),(x+w,y+h),(50,50,4,10))
cv2.imshow("img",img)
cv2.waitKey()




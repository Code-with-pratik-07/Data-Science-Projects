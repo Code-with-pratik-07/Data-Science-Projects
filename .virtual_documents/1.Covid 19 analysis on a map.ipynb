import pandas as pd
import folium
import numpy as np
try:
    df = pd.read_csv("Covid cases in India.csv")
    # print("States in CSV:", df['Name of State / UT'].unique())
    df.drop(['S. No.'], axis=1, inplace=True)
except FileNotFoundError:
    print("Error: Make sure 'Covid cases in India.csv' is in the same directory as this script")
    exit(1)

df['Total Cases'] = df['Total Confirmed cases (Indian National)'] + df['Total Confirmed cases ( Foreign National )']
df['Active Cases'] = df['Total Cases'] - (df['Death'] + df['Cured'])

state_coords = {
    "Andhra Pradesh": [15.9129, 79.7400],
    "Chhattisgarh": [21.2787, 81.8661],
    "Delhi": [28.7041, 77.1025],
    "Gujarat": [22.2587, 71.1924],
    "Haryana": [29.0588, 76.0856],
    "Himachal Pradesh": [31.1048, 77.1734],
    "Karnataka": [15.3173, 75.7139],
    "Kerala": [10.8505, 76.2711],
    "Madhya Pradesh": [23.4733, 77.9470],
    "Maharashtra": [19.7515, 75.7139],
    "Odisha": [20.9517, 85.0985],
    "Puducherry": [11.9416, 79.8083],
    "Punjab": [31.1471, 75.3412],
    "Rajasthan": [27.0238, 74.2179],
    "Tamil Nadu": [11.1271, 78.6569],
    "Telengana": [18.1124, 79.0193],
    "Chandigarh": [30.7333, 76.7794],
    "Jammu and Kashmir": [33.7782, 76.5762],
    "Ladakh": [34.1526, 77.5770],
    "Uttar Pradesh": [26.8467, 80.9462],
    "Uttarakhand": [30.0668, 79.0193],
    "West Bengal": [22.9868, 87.8550],
    "Bihar": [25.0961, 85.3131],
    "Mizoram": [23.1645, 92.9376],
    "Goa": [15.2993, 74.1240],
    "Manipur": [24.6637, 93.9063]
}

df['lat'] = df['Name of State / UT'].map(lambda x: state_coords.get(x, np.nan)[0] if x in state_coords else np.nan)
df['lon'] = df['Name of State / UT'].map(lambda x: state_coords.get(x, np.nan)[1] if x in state_coords else np.nan)

df = df.dropna(subset=['lat', 'lon'])

max_active = df['Active Cases'].max()
min_active = df['Active Cases'].min()

def get_color(active):
    ratio = (active - min_active) / (max_active - min_active) if max_active != min_active else 0
    r = int(255 * ratio)
    g = int(255 * (1 - ratio))
    return f'#{r:02x}{g:02x}00'

# Create map
india_map = folium.Map(location=[22.9734, 78.6569], zoom_start=5)

# Add circle markers
for idx, row in df.iterrows():
    marker_size = max(np.sqrt(row['Total Cases']) / 10, 3)  # minimum radius = 3
    color = get_color(row['Active Cases'])
    popup_text = f"""
    <b>{row['Name of State / UT']}</b><br>
    Total Cases: {row['Total Cases']:,}<br>
    Active Cases: {row['Active Cases']:,}<br>
    Deaths: {row['Death']:,}<br>
    Recovered: {row['Cured']:,}
    """
    folium.CircleMarker(
        location=[row['lat'], row['lon']],
        radius=marker_size,
        color='black',
        fill=True,
        fillColor=color,
        fill_opacity=0.7,
        weight=1,
        popup=folium.Popup(popup_text, max_width=250)
    ).add_to(india_map)

# Add legend
legend_html = '''
<div style="position: fixed; 
     bottom: 50px; left: 50px; width: 180px; height: 90px; 
     background-color: white; border:2px solid grey; z-index:9999; 
     font-size:14px; padding: 10px">
<b>Active Cases (Color)</b><br>
Yellow → Low<br>
Red → High
</div>
'''
india_map.get_root().html.add_child(folium.Element(legend_html))

# Save map
india_map.save('india_covid_map.html')
print("Interactive India map saved as 'india_covid_map.html'")

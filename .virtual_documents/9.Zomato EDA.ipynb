import pandas as pd
import numpy as np
import matplotlib.pyplot as pyplot
import seaborn as sns
%matplotlib inline


df=pd.read_csv("zomato.csv",encoding="latin-1")


df.head()


df.columns


df.info()


df.describe()


df.isnull().sum()


[features for features in df.columns if df[features].isnull().sum()>0]


sns.heatmap(df.isnull(),yticklabels=False,cbar=False,cmap="viridis")
plt.show()


df_country=pd.read_excel("Country-Code.xlsx")
df_country.head()


df.columns


#combining  same columns from 2datasets
final_df=pd.merge(df,df_country,on="Country Code",how="left")
final_df


final_df.head(10)


#check datatypes
final_df.dtypes


final_df.columns


final_df.Country.value_counts()


Country_names=final_df.Country.value_counts().index


Country_values=final_df.Country.value_counts().values


plt.pie(Country_values[:3],labels=Country_names[:3],autopct="%1.2f%%")
plt.show()


ratings=final_df.groupby(["Aggregate rating","Rating color","Rating text"]).size().reset_index().rename(columns={0:"Rating count"})


ratings.head()


import matplotlib
matplotlib.rcParams["figure.figsize"]=(12,6)
sns.barplot(x="Aggregate rating",y="Rating count",hue="Rating color",data=ratings,palette=["white","red","orange","yellow","green","green"])
plt.show()


sns.countplot(x="Rating color",data=ratings,palette=["white","red","orange","yellow","green","green"])
plt.show()


final_df.columns


final_df[final_df["Rating color"]=="White"].groupby("Country").size().reset_index()


final_df[["Country","Currency"]].groupby(["Country","Currency"]).size().reset_index()


final_df[["Country","Has Online delivery"]].groupby(["Country","Has Online delivery"]).size().reset_index()


final_df["Has Online delivery"].unique()


final_df[final_df["Has Online delivery"]== "Yes"].Country.value_counts()


city_values=final_df.Country.value_counts().values
city_labels=final_df.Country.value_counts().index


plt.pie(city_values[:5],labels=city_labels[:5])
plt.show()




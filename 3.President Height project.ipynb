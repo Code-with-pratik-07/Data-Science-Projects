{
 "cells": [
  {
   "cell_type": "code",
   "execution_count": 5,
   "id": "66bb253c-514f-45f3-a0d5-8b336e33a9be",
   "metadata": {},
   "outputs": [
    {
     "name": "stdout",
     "output_type": "stream",
     "text": [
      "   order               name  height(cm)\n",
      "0      1  George Washington         189\n",
      "1      2         John Adams         170\n",
      "2      3   Thomas Jefferson         189\n",
      "3      4      James Madison         163\n",
      "4      5       James Monroe         183\n"
     ]
    }
   ],
   "source": [
    "import pandas as pd\n",
    "import numpy as np\n",
    "data=pd.read_csv(\"president_heights.csv\")\n",
    "print(data.head())"
   ]
  },
  {
   "cell_type": "code",
   "execution_count": 8,
   "id": "f8e32552-3c08-4e60-9bd0-cc9b530dfe4a",
   "metadata": {},
   "outputs": [
    {
     "data": {
      "text/plain": [
       "array([189, 170, 189, 163, 183, 171, 185, 168, 173, 183, 173, 173, 175,\n",
       "       178, 183, 193, 178, 173, 174, 183, 183, 168, 170, 178, 182, 180,\n",
       "       183, 178, 182, 188, 175, 179, 183, 193, 182, 183, 177, 185, 188,\n",
       "       188, 182, 185])"
      ]
     },
     "execution_count": 8,
     "metadata": {},
     "output_type": "execute_result"
    }
   ],
   "source": [
    "height=np.array(data[\"height(cm)\"])\n",
    "height"
   ]
  },
  {
   "cell_type": "code",
   "execution_count": 9,
   "id": "68fabe3c-9375-4b33-9d45-bd9c1cb57c9a",
   "metadata": {},
   "outputs": [
    {
     "name": "stdout",
     "output_type": "stream",
     "text": [
      "Mean of heights= 179.73809523809524\n"
     ]
    }
   ],
   "source": [
    "print(\"Mean of heights=\",height.mean())"
   ]
  },
  {
   "cell_type": "code",
   "execution_count": 10,
   "id": "748de614-a4a6-47cb-8f43-8bbadf1005a3",
   "metadata": {},
   "outputs": [
    {
     "name": "stdout",
     "output_type": "stream",
     "text": [
      "Standard Deviation of height = 6.931843442745892\n"
     ]
    }
   ],
   "source": [
    "print(\"Standard Deviation of height =\",height.std())"
   ]
  },
  {
   "cell_type": "code",
   "execution_count": 13,
   "id": "1e6dfaa2-88c0-42c2-a037-931b633a82d4",
   "metadata": {},
   "outputs": [
    {
     "name": "stdout",
     "output_type": "stream",
     "text": [
      "Maximum height = 193\n"
     ]
    }
   ],
   "source": [
    "print(\"Maximum height =\",height.max())"
   ]
  },
  {
   "cell_type": "code",
   "execution_count": 14,
   "id": "9afb90b8-b4a1-421f-bdc8-bae475ba6418",
   "metadata": {},
   "outputs": [
    {
     "name": "stdout",
     "output_type": "stream",
     "text": [
      "Minimum height = 163\n"
     ]
    }
   ],
   "source": [
    "print(\"Minimum height =\",height.min())"
   ]
  },
  {
   "cell_type": "code",
   "execution_count": 15,
   "id": "ae4c3553-5b92-4b4d-82cd-e3ed7f3a5385",
   "metadata": {},
   "outputs": [
    {
     "name": "stdout",
     "output_type": "stream",
     "text": [
      "25th percentil = 174.25\n"
     ]
    }
   ],
   "source": [
    "print(\"25th percentil =\",np.percentile(height,25))"
   ]
  },
  {
   "cell_type": "code",
   "execution_count": 16,
   "id": "3562fb80-0f14-4a65-b3db-f2a4dae5307f",
   "metadata": {},
   "outputs": [
    {
     "name": "stdout",
     "output_type": "stream",
     "text": [
      "Median = 182.0\n"
     ]
    }
   ],
   "source": [
    "print(\"Median =\",np.median(height))"
   ]
  },
  {
   "cell_type": "code",
   "execution_count": 17,
   "id": "2721850b-5ebd-4cc4-82de-09739ea17546",
   "metadata": {},
   "outputs": [
    {
     "name": "stdout",
     "output_type": "stream",
     "text": [
      "75th percentile = 183.0\n"
     ]
    }
   ],
   "source": [
    "print(\"75th percentile =\",np.percentile(height,75))"
   ]
  },
  {
   "cell_type": "code",
   "execution_count": 19,
   "id": "d0bbf91c-5df4-4e6d-a585-1d222d0b7b72",
   "metadata": {},
   "outputs": [
    {
     "data": {
      "image/png": "[encoded data removed]",
      "text/plain": [
       "<Figure size 640x480 with 1 Axes>"
      ]
     },
     "metadata": {},
     "output_type": "display_data"
    }
   ],
   "source": [
    "import matplotlib.pyplot as plt\n",
    "import seaborn as sns\n",
    "sns.set()\n",
    "plt.hist(height)\n",
    "plt.title(\"Height Distribution of Presidents of USA\")\n",
    "plt.xlabel(\"height(cm)\")\n",
    "plt.ylabel(\"Number\")\n",
    "plt.show()"
   ]
  }
 ],
 "metadata": {
  "kernelspec": {
   "display_name": "Python 3 (ipykernel)",
   "language": "python",
   "name": "python3"
  },
  "language_info": {
   "codemirror_mode": {
    "name": "ipython",
    "version": 3
   },
   "file_extension": ".py",
   "mimetype": "text/x-python",
   "name": "python",
   "nbconvert_exporter": "python",
   "pygments_lexer": "ipython3",
   "version": "3.13.5"
  }
 },
 "nbformat": 4,
 "nbformat_minor": 5
}

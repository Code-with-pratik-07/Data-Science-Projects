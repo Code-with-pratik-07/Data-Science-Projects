{
 "cells": [
  {
   "cell_type": "code",
   "execution_count": 60,
   "id": "c04a4739-cc84-423e-88fd-47fc4155a1e0",
   "metadata": {},
   "outputs": [
    {
     "name": "stdout",
     "output_type": "stream",
     "text": [
      "Interactive India map saved as 'india_covid_map.html'\n"
     ]
    }
   ],
   "source": [
    "import pandas as pd\n",
    "import folium\n",
    "import numpy as np\n",
    "try:\n",
    "    df = pd.read_csv(\"Covid cases in India.csv\")\n",
    "    # print(\"States in CSV:\", df['Name of State / UT'].unique())\n",
    "    df.drop(['S. No.'], axis=1, inplace=True)\n",
    "except FileNotFoundError:\n",
    "    print(\"Error: Make sure 'Covid cases in India.csv' is in the same directory as this script\")\n",
    "    exit(1)\n",
    "\n",
    "df['Total Cases'] = df['Total Confirmed cases (Indian National)'] + df['Total Confirmed cases ( Foreign National )']\n",
    "df['Active Cases'] = df['Total Cases'] - (df['Death'] + df['Cured'])\n",
    "\n",
    "state_coords = {\n",
    "    \"Andhra Pradesh\": [15.9129, 79.7400],\n",
    "    \"Chhattisgarh\": [21.2787, 81.8661],\n",
    "    \"Delhi\": [28.7041, 77.1025],\n",
    "    \"Gujarat\": [22.2587, 71.1924],\n",
    "    \"Haryana\": [29.0588, 76.0856],\n",
    "    \"Himachal Pradesh\": [31.1048, 77.1734],\n",
    "    \"Karnataka\": [15.3173, 75.7139],\n",
    "    \"Kerala\": [10.8505, 76.2711],\n",
    "    \"Madhya Pradesh\": [23.4733, 77.9470],\n",
    "    \"Maharashtra\": [19.7515, 75.7139],\n",
    "    \"Odisha\": [20.9517, 85.0985],\n",
    "    \"Puducherry\": [11.9416, 79.8083],\n",
    "    \"Punjab\": [31.1471, 75.3412],\n",
    "    \"Rajasthan\": [27.0238, 74.2179],\n",
    "    \"Tamil Nadu\": [11.1271, 78.6569],\n",
    "    \"Telengana\": [18.1124, 79.0193],\n",
    "    \"Chandigarh\": [30.7333, 76.7794],\n",
    "    \"Jammu and Kashmir\": [33.7782, 76.5762],\n",
    "    \"Ladakh\": [34.1526, 77.5770],\n",
    "    \"Uttar Pradesh\": [26.8467, 80.9462],\n",
    "    \"Uttarakhand\": [30.0668, 79.0193],\n",
    "    \"West Bengal\": [22.9868, 87.8550],\n",
    "    \"Bihar\": [25.0961, 85.3131],\n",
    "    \"Mizoram\": [23.1645, 92.9376],\n",
    "    \"Goa\": [15.2993, 74.1240],\n",
    "    \"Manipur\": [24.6637, 93.9063]\n",
    "}\n",
    "\n",
    "df['lat'] = df['Name of State / UT'].map(lambda x: state_coords.get(x, np.nan)[0] if x in state_coords else np.nan)\n",
    "df['lon'] = df['Name of State / UT'].map(lambda x: state_coords.get(x, np.nan)[1] if x in state_coords else np.nan)\n",
    "\n",
    "df = df.dropna(subset=['lat', 'lon'])\n",
    "\n",
    "max_active = df['Active Cases'].max()\n",
    "min_active = df['Active Cases'].min()\n",
    "\n",
    "def get_color(active):\n",
    "    ratio = (active - min_active) / (max_active - min_active) if max_active != min_active else 0\n",
    "    r = int(255 * ratio)\n",
    "    g = int(255 * (1 - ratio))\n",
    "    return f'#{r:02x}{g:02x}00'\n",
    "\n",
    "# Create map\n",
    "india_map = folium.Map(location=[22.9734, 78.6569], zoom_start=5)\n",
    "\n",
    "# Add circle markers\n",
    "for idx, row in df.iterrows():\n",
    "    marker_size = max(np.sqrt(row['Total Cases']) / 10, 3)  # minimum radius = 3\n",
    "    color = get_color(row['Active Cases'])\n",
    "    popup_text = f\"\"\"\n",
    "    <b>{row['Name of State / UT']}</b><br>\n",
    "    Total Cases: {row['Total Cases']:,}<br>\n",
    "    Active Cases: {row['Active Cases']:,}<br>\n",
    "    Deaths: {row['Death']:,}<br>\n",
    "    Recovered: {row['Cured']:,}\n",
    "    \"\"\"\n",
    "    folium.CircleMarker(\n",
    "        location=[row['lat'], row['lon']],\n",
    "        radius=marker_size,\n",
    "        color='black',\n",
    "        fill=True,\n",
    "        fillColor=color,\n",
    "        fill_opacity=0.7,\n",
    "        weight=1,\n",
    "        popup=folium.Popup(popup_text, max_width=250)\n",
    "    ).add_to(india_map)\n",
    "\n",
    "# Add legend\n",
    "legend_html = '''\n",
    "<div style=\"position: fixed; \n",
    "     bottom: 50px; left: 50px; width: 180px; height: 90px; \n",
    "     background-color: white; border:2px solid grey; z-index:9999; \n",
    "     font-size:14px; padding: 10px\">\n",
    "<b>Active Cases (Color)</b><br>\n",
    "Yellow → Low<br>\n",
    "Red → High\n",
    "</div>\n",
    "'''\n",
    "india_map.get_root().html.add_child(folium.Element(legend_html))\n",
    "\n",
    "# Save map\n",
    "india_map.save('india_covid_map.html')\n",
    "print(\"Interactive India map saved as 'india_covid_map.html'\")"
   ]
  },
  {
   "cell_type": "code",
   "execution_count": 1,
   "id": "f811a03f-716a-4453-b17a-aa270f448292",
   "metadata": {},
   "outputs": [
    {
     "ename": "SyntaxError",
     "evalue": "leading zeros in decimal integer literals are not permitted; use an 0o prefix for octal integers (3975416427.py, line 1)",
     "output_type": "error",
     "traceback": [
      "\u001b[0;36m  Cell \u001b[0;32mIn[1], line 1\u001b[0;36m\u001b[0m\n\u001b[0;31m    git remote add origin https://github.com/Code-with-pratik-07/Data-Science-Projects.git\u001b[0m\n\u001b[0m                                                              ^\u001b[0m\n\u001b[0;31mSyntaxError\u001b[0m\u001b[0;31m:\u001b[0m leading zeros in decimal integer literals are not permitted; use an 0o prefix for octal integers\n"
     ]
    }
   ],
   "source": [
    "git remote add origin https://github.com/Code-with-pratik-07/Data-Science-Projects.git"
   ]
  },
  {
   "cell_type": "code",
   "execution_count": 2,
   "id": "e5a9c1a0-86be-4b6f-bfc2-30c44ff0e479",
   "metadata": {},
   "outputs": [
    {
     "ename": "SyntaxError",
     "evalue": "invalid syntax (2830201818.py, line 1)",
     "output_type": "error",
     "traceback": [
      "\u001b[0;36m  Cell \u001b[0;32mIn[2], line 1\u001b[0;36m\u001b[0m\n\u001b[0;31m    git init\u001b[0m\n\u001b[0m        ^\u001b[0m\n\u001b[0;31mSyntaxError\u001b[0m\u001b[0;31m:\u001b[0m invalid syntax\n"
     ]
    }
   ],
   "source": [
    "git init"
   ]
  }
 ],
 "metadata": {
  "kernelspec": {
   "display_name": "Python 3 (ipykernel)",
   "language": "python",
   "name": "python3"
  },
  "language_info": {
   "codemirror_mode": {
    "name": "ipython",
    "version": 3
   },
   "file_extension": ".py",
   "mimetype": "text/x-python",
   "name": "python",
   "nbconvert_exporter": "python",
   "pygments_lexer": "ipython3",
   "version": "3.13.5"
  }
 },
 "nbformat": 4,
 "nbformat_minor": 5
}
